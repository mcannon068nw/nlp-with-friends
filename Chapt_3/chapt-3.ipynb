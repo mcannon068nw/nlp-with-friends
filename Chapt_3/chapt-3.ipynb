{
 "cells": [
  {
   "cell_type": "code",
   "execution_count": 6,
   "metadata": {},
   "outputs": [],
   "source": [
    "import spacy\n",
    "nlp = spacy.load(\"en_core_web_md\")"
   ]
  },
  {
   "cell_type": "markdown",
   "metadata": {},
   "source": [
    "### What is POS Tagging?"
   ]
  },
  {
   "cell_type": "code",
   "execution_count": 4,
   "metadata": {},
   "outputs": [
    {
     "data": {
      "text/plain": [
       "'noun, plural'"
      ]
     },
     "execution_count": 4,
     "metadata": {},
     "output_type": "execute_result"
    }
   ],
   "source": [
    "# Explain can be used to report part of speech tag\n",
    "spacy.explain(\"NNS\")"
   ]
  },
  {
   "cell_type": "code",
   "execution_count": 9,
   "metadata": {},
   "outputs": [
    {
     "data": {
      "text/plain": [
       "('flowers', 'NNS', 'noun, plural')"
      ]
     },
     "execution_count": 9,
     "metadata": {},
     "output_type": "execute_result"
    }
   ],
   "source": [
    "doc = nlp(\"I saw flowers.\")\n",
    "token = doc[2]\n",
    "token.text, token.tag_, spacy.explain(token.tag_)"
   ]
  },
  {
   "cell_type": "code",
   "execution_count": 14,
   "metadata": {},
   "outputs": [
    {
     "name": "stdout",
     "output_type": "stream",
     "text": [
      "Alicia PROPN NNP proper noun noun, proper singular\n",
      "and CCONJ CC coordinating conjunction conjunction, coordinating\n",
      "me PRON PRP pronoun pronoun, personal\n",
      "went VERB VBD verb verb, past tense\n",
      "to ADP IN adposition conjunction, subordinating or preposition\n",
      "the DET DT determiner determiner\n",
      "school NOUN NN noun noun, singular or mass\n",
      "by ADP IN adposition conjunction, subordinating or preposition\n",
      "bus NOUN NN noun noun, singular or mass\n",
      ". PUNCT . punctuation punctuation mark, sentence closer\n"
     ]
    }
   ],
   "source": [
    "# Example of POS tagging in action\n",
    "doc = nlp(\"Alicia and me went to the school by bus.\")\n",
    "for token in doc:\n",
    "    print(token.text, token.pos_, token.tag_, spacy.explain(token.pos_), spacy.explain(token.tag_))"
   ]
  },
  {
   "cell_type": "code",
   "execution_count": 15,
   "metadata": {},
   "outputs": [
    {
     "name": "stdout",
     "output_type": "stream",
     "text": [
      "My PRON PRP$ pronoun pronoun, possessive\n",
      "friend NOUN NN noun noun, singular or mass\n",
      "will AUX MD auxiliary verb, modal auxiliary\n",
      "fly VERB VB verb verb, base form\n",
      "to ADP IN adposition conjunction, subordinating or preposition\n",
      "New PROPN NNP proper noun noun, proper singular\n",
      "York PROPN NNP proper noun noun, proper singular\n",
      "fast ADV RB adverb adverb\n",
      "and CCONJ CC coordinating conjunction conjunction, coordinating\n",
      "she PRON PRP pronoun pronoun, personal\n",
      "is AUX VBZ auxiliary verb, 3rd person singular present\n",
      "staying VERB VBG verb verb, gerund or present participle\n",
      "there ADV RB adverb adverb\n",
      "for ADP IN adposition conjunction, subordinating or preposition\n",
      "3 NUM CD numeral cardinal number\n",
      "days NOUN NNS noun noun, plural\n",
      ". PUNCT . punctuation punctuation mark, sentence closer\n"
     ]
    }
   ],
   "source": [
    "# Another example of POS tagging in action\n",
    "doc = nlp(\"My friend will fly to New York fast and she is staying there for 3 days.\")\n",
    "for token in doc:\n",
    "    print(token.text, token.pos_, token.tag_, spacy.explain(token.pos_),spacy.explain(token.tag_))"
   ]
  },
  {
   "cell_type": "code",
   "execution_count": 18,
   "metadata": {},
   "outputs": [
    {
     "name": "stdout",
     "output_type": "stream",
     "text": [
      "EX 1:  I PRP pronoun, personal\n",
      "EX 1:  will MD verb, modal auxiliary\n",
      "EX 1:  ship VB verb, base form\n",
      "EX 1:  the DT determiner\n",
      "EX 1:  package NN noun, singular or mass\n",
      "EX 1:  tomorrow NN noun, singular or mass\n",
      "EX 2:  I PRP pronoun, personal\n",
      "EX 2:  saw VBD verb, past tense\n",
      "EX 2:  a DT determiner\n",
      "EX 2:  red JJ adjective (English), other noun-modifier (Chinese)\n",
      "EX 2:  ship NN noun, singular or mass\n",
      "EX 2:  . . punctuation mark, sentence closer\n"
     ]
    }
   ],
   "source": [
    "# One more example of POS tagging in action (with context dependent POS verb/noun)\n",
    "doc = nlp(\"I will ship the package tomorrow\")\n",
    "for token in doc:\n",
    "    print('EX 1: ', token.text, token.tag_, spacy.explain(token.tag_))\n",
    "\n",
    "doc_2 = nlp(\"I saw a red ship.\")\n",
    "for token in doc_2:\n",
    "    print('EX 2: ', token.text, token.tag_, spacy.explain(token.tag_))"
   ]
  },
  {
   "cell_type": "code",
   "execution_count": 19,
   "metadata": {},
   "outputs": [
    {
     "name": "stdout",
     "output_type": "stream",
     "text": [
      "My PRON PRP$ pronoun pronoun, possessive\n",
      "cat NOUN NN noun noun, singular or mass\n",
      "will AUX MD auxiliary verb, modal auxiliary\n",
      "fish VERB VB verb verb, base form\n",
      "for ADP IN adposition conjunction, subordinating or preposition\n",
      "a DET DT determiner determiner\n",
      "fish NOUN NN noun noun, singular or mass\n",
      "tomorrow NOUN NN noun noun, singular or mass\n",
      "in ADP IN adposition conjunction, subordinating or preposition\n",
      "a DET DT determiner determiner\n",
      "fishy ADJ JJ adjective adjective (English), other noun-modifier (Chinese)\n",
      "way NOUN NN noun noun, singular or mass\n",
      ". PUNCT . punctuation punctuation mark, sentence closer\n"
     ]
    }
   ],
   "source": [
    "# But what about tricky sentences?\n",
    "doc = nlp(\"My cat will fish for a fish tomorrow in a fishy way.\")\n",
    "for token in doc:\n",
    "    print(token.text, token.pos_, token.tag_, spacy.explain(token.pos_), spacy.explain(token.tag_))"
   ]
  },
  {
   "cell_type": "markdown",
   "metadata": {},
   "source": [
    "### Verb Tense & Aspect"
   ]
  },
  {
   "cell_type": "code",
   "execution_count": 20,
   "metadata": {},
   "outputs": [
    {
     "name": "stdout",
     "output_type": "stream",
     "text": [
      "[]\n",
      "[('flying', 'fly')]\n",
      "[('fly', 'fly')]\n"
     ]
    }
   ],
   "source": [
    "# Print words from docs if word POS is a present progressive verb or base/infinitive verb\n",
    "sent1 = \"I flew to Rome.\"\n",
    "sent2 = \"I'm flying to Rome.\"\n",
    "sent3 = \"I will fly to Rome.\"\n",
    "\n",
    "doc1 = nlp(sent1)\n",
    "doc2 = nlp(sent2)\n",
    "doc3 = nlp(sent3)\n",
    "\n",
    "for doc in [doc1, doc2, doc3]:\n",
    "    print([(w.text, w.lemma_) for w in doc if w.tag_== 'VBG' or w.tag_ == 'VB'])"
   ]
  },
  {
   "cell_type": "markdown",
   "metadata": {},
   "source": [
    "### Number, symbol, and punctuation tags"
   ]
  },
  {
   "cell_type": "code",
   "execution_count": 22,
   "metadata": {},
   "outputs": [
    {
     "name": "stdout",
     "output_type": "stream",
     "text": [
      "He PRP pronoun, personal\n",
      "earned VBD verb, past tense\n",
      "$ $ symbol, currency\n",
      "5.5 CD cardinal number\n",
      "million CD cardinal number\n",
      "in IN conjunction, subordinating or preposition\n",
      "2020 CD cardinal number\n",
      "and CC conjunction, coordinating\n",
      "paid VBD verb, past tense\n",
      "% NN noun, singular or mass\n",
      "35 CD cardinal number\n",
      "tax NN noun, singular or mass\n",
      ". . punctuation mark, sentence closer\n"
     ]
    }
   ],
   "source": [
    "doc = nlp(\"He earned $5.5 million in 2020 and paid %35 tax.\")\n",
    "for token in doc:\n",
    "    print(token.text, token.tag_, spacy.explain(token.tag_))"
   ]
  },
  {
   "cell_type": "markdown",
   "metadata": {},
   "source": [
    "### Dependency Parsing"
   ]
  },
  {
   "cell_type": "code",
   "execution_count": 23,
   "metadata": {},
   "outputs": [
    {
     "name": "stdout",
     "output_type": "stream",
     "text": [
      "blue compound\n",
      "flower ROOT\n"
     ]
    }
   ],
   "source": [
    "doc = nlp(\"blue flower\")\n",
    "for token in doc:\n",
    "    print(token.text, token.dep_)"
   ]
  },
  {
   "cell_type": "code",
   "execution_count": 24,
   "metadata": {},
   "outputs": [
    {
     "name": "stdout",
     "output_type": "stream",
     "text": [
      "I 95 nsubj\n",
      "counted 100 ROOT\n",
      "white 84 amod\n",
      "sheep 92 dobj\n",
      ". 97 punct\n"
     ]
    }
   ],
   "source": [
    "# ROOT token is only one without a parent\n",
    "doc = nlp(\"I counted white sheep.\")\n",
    "for token in doc:\n",
    "    print(token.text, token.pos, token.dep_)"
   ]
  },
  {
   "cell_type": "code",
   "execution_count": 25,
   "metadata": {},
   "outputs": [
    {
     "name": "stdout",
     "output_type": "stream",
     "text": [
      "I PRP nsubj counted\n",
      "counted VBD ROOT counted\n",
      "white JJ amod sheep\n",
      "sheep NN dobj counted\n",
      ". . punct counted\n"
     ]
    }
   ],
   "source": [
    "# Token.head can be used to identify dependency heads\n",
    "doc = nlp(\"I counted white sheep.\")\n",
    "for token in doc:\n",
    "    print(token.text, token.tag_, token.dep_, token.head)"
   ]
  },
  {
   "cell_type": "code",
   "execution_count": 26,
   "metadata": {},
   "outputs": [
    {
     "name": "stdout",
     "output_type": "stream",
     "text": [
      "We PRP nsubj trying\n",
      "are VBP aux trying\n",
      "trying VBG ROOT trying\n",
      "to TO aux understand\n",
      "understand VB xcomp trying\n",
      "the DT det difference\n",
      "difference NN dobj understand\n",
      ". . punct trying\n"
     ]
    }
   ],
   "source": [
    "# Xcomp relation o a verb is a clause without its own subject (open complement)\n",
    "doc = nlp(\"We are trying to understand the difference.\")\n",
    "for token in doc:\n",
    "    print(token.text, token.tag_, token.dep_, token.head)"
   ]
  },
  {
   "cell_type": "code",
   "execution_count": 27,
   "metadata": {},
   "outputs": [
    {
     "name": "stdout",
     "output_type": "stream",
     "text": [
      "Queen NNP compound Katherine\n",
      "Katherine NNP nsubj died\n",
      ", , punct Katherine\n",
      "who WP nsubj was\n",
      "was VBD relcl Katherine\n",
      "the DT det mother\n",
      "mother NN attr was\n",
      "of IN prep mother\n",
      "Mary NNP compound Tudor\n",
      "Tudor NNP pobj of\n",
      ", , punct Katherine\n",
      "died VBD ROOT died\n",
      "at IN prep died\n",
      "1536 CD pobj at\n",
      ". . punct died\n"
     ]
    }
   ],
   "source": [
    "# Observing relations within sentences with subsentences\n",
    "doc = nlp(\"Queen Katherine, who was the mother of Mary Tudor, died at 1536.\")\n",
    "for token in doc:\n",
    "    print(token.text, token.tag_, token.dep_, token.head)"
   ]
  }
 ],
 "metadata": {
  "interpreter": {
   "hash": "aee8b7b246df8f9039afb4144a1f6fd8d2ca17a180786b69acc140d282b71a49"
  },
  "kernelspec": {
   "display_name": "Python 3.9.12 64-bit",
   "language": "python",
   "name": "python3"
  },
  "language_info": {
   "codemirror_mode": {
    "name": "ipython",
    "version": 3
   },
   "file_extension": ".py",
   "mimetype": "text/x-python",
   "name": "python",
   "nbconvert_exporter": "python",
   "pygments_lexer": "ipython3",
   "version": "3.9.12"
  },
  "orig_nbformat": 4
 },
 "nbformat": 4,
 "nbformat_minor": 2
}
