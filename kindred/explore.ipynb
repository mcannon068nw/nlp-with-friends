{
 "cells": [
  {
   "cell_type": "code",
   "execution_count": 3,
   "metadata": {},
   "outputs": [],
   "source": [
    "import kindred\n",
    "import spacy\n",
    "\n",
    "nlp = spacy.load(\"en_core_web_md\")"
   ]
  },
  {
   "cell_type": "markdown",
   "metadata": {},
   "source": [
    "### Loading a Corpus "
   ]
  },
  {
   "cell_type": "code",
   "execution_count": 2,
   "metadata": {},
   "outputs": [],
   "source": [
    "corpus = kindred.pubtator.load([19894120, 19894121])"
   ]
  },
  {
   "cell_type": "markdown",
   "metadata": {},
   "source": [
    "### Parsing"
   ]
  },
  {
   "cell_type": "code",
   "execution_count": 3,
   "metadata": {},
   "outputs": [],
   "source": [
    "parser = kindred.Parser()\n",
    "parser.parse(corpus)"
   ]
  },
  {
   "cell_type": "code",
   "execution_count": 4,
   "metadata": {},
   "outputs": [
    {
     "data": {
      "text/plain": [
       "True"
      ]
     },
     "execution_count": 4,
     "metadata": {},
     "output_type": "execute_result"
    }
   ],
   "source": [
    "corpus.parsed"
   ]
  },
  {
   "cell_type": "code",
   "execution_count": 17,
   "metadata": {},
   "outputs": [
    {
     "data": {
      "text/plain": [
       "<Document Multidrug resistance-associated protein 1 (MRP-1) is a ubiquitously expressed member of the ATP-binding cassette transporter family. MRP-1 is one of the primary transporters of glutathione and glutathione conjugates. This protein also transports antiretroviral therapeutics, such as HIV-1 protease inhibitors (PI). We hypothesized that inflammatory mediators that activate macrophages would modify the expression and activity of MRP-1 in macrophages. Real-time PCR assays, western blots, and calcein efflux assays were used to show that exposure of macrophage cell line RAW 264.7 to lipopolysaccharide (LPS) increased expression of MRP-1 at the levels of mRNA, protein, and functional activity. Treatment of macrophages with LPS resulted in 2-fold increases of MRP-1 expression or functional activity. LPS-mediated increases in calcein efflux were repressed by the MRP-specific inhibitor MK-571. These results suggest that the effectiveness of HIV-1 PI therapy may be compromised by the presence of opportunistic infections. [<Entity Gene:'Multidrug resistance-associated protein 1' sourceid=28 [(0, 41)]>, <Entity Gene:'MRP-1' sourceid=29 [(43, 48)]>, <Entity Gene:'MRP-1' sourceid=30 [(133, 138)]>, <Entity Chemical:'glutathione' sourceid=31 [(177, 188)]>, <Entity Chemical:'glutathione' sourceid=32 [(193, 204)]>, <Entity Species:'HIV-1' sourceid=33 [(283, 288)]>, <Entity Gene:'MRP-1' sourceid=34 [(429, 434)]>, <Entity Chemical:'calcein' sourceid=35 [(492, 499)]>, <Entity CellLine:'RAW 264.7' sourceid=36 [(570, 579)]>, <Entity Chemical:'lipopolysaccharide' sourceid=37 [(583, 601)]>, <Entity Chemical:'LPS' sourceid=38 [(603, 606)]>, <Entity Gene:'MRP-1' sourceid=39 [(632, 637)]>, <Entity Chemical:'LPS' sourceid=40 [(725, 728)]>, <Entity Gene:'MRP-1' sourceid=41 [(761, 766)]>, <Entity Chemical:'LPS' sourceid=42 [(802, 805)]>, <Entity Chemical:'calcein' sourceid=43 [(828, 835)]>, <Entity Gene:'MRP' sourceid=44 [(865, 868)]>, <Entity Chemical:'MK-571' sourceid=45 [(888, 894)]>, <Entity Species:'HIV-1' sourceid=46 [(944, 949)]>, <Entity Disease:'opportunistic infections' sourceid=47 [(999, 1023)]>] []>"
      ]
     },
     "execution_count": 17,
     "metadata": {},
     "output_type": "execute_result"
    }
   ],
   "source": [
    "corpus.documents[1]"
   ]
  },
  {
   "cell_type": "code",
   "execution_count": 21,
   "metadata": {},
   "outputs": [
    {
     "data": {
      "text/plain": [
       "kindred.Document.Document"
      ]
     },
     "execution_count": 21,
     "metadata": {},
     "output_type": "execute_result"
    }
   ],
   "source": [
    "type(corpus.documents[1])"
   ]
  },
  {
   "cell_type": "code",
   "execution_count": 27,
   "metadata": {},
   "outputs": [
    {
     "ename": "TypeError",
     "evalue": "__init__() missing 4 required positional arguments: 'lemma', 'partofspeech', 'startPos', and 'endPos'",
     "output_type": "error",
     "traceback": [
      "\u001b[0;31m---------------------------------------------------------------------------\u001b[0m",
      "\u001b[0;31mTypeError\u001b[0m                                 Traceback (most recent call last)",
      "\u001b[0;32m/var/folders/m6/b6y4g9114836jky8p81w12mchscvrj/T/ipykernel_87609/941582396.py\u001b[0m in \u001b[0;36m<module>\u001b[0;34m\u001b[0m\n\u001b[0;32m----> 1\u001b[0;31m \u001b[0mkindred\u001b[0m\u001b[0;34m.\u001b[0m\u001b[0mToken\u001b[0m\u001b[0;34m(\u001b[0m\u001b[0mcorpus\u001b[0m\u001b[0;34m)\u001b[0m\u001b[0;34m\u001b[0m\u001b[0;34m\u001b[0m\u001b[0m\n\u001b[0m",
      "\u001b[0;31mTypeError\u001b[0m: __init__() missing 4 required positional arguments: 'lemma', 'partofspeech', 'startPos', and 'endPos'"
     ]
    }
   ],
   "source": [
    "kindred.Token(corpus)"
   ]
  },
  {
   "cell_type": "code",
   "execution_count": 22,
   "metadata": {},
   "outputs": [
    {
     "data": {
      "text/plain": [
       "[]"
      ]
     },
     "execution_count": 22,
     "metadata": {},
     "output_type": "execute_result"
    }
   ],
   "source": [
    "corpus.getRelations()"
   ]
  }
 ],
 "metadata": {
  "kernelspec": {
   "display_name": "Pyenv-3-10",
   "language": "python",
   "name": "pyenv-3-10"
  },
  "language_info": {
   "codemirror_mode": {
    "name": "ipython",
    "version": 3
   },
   "file_extension": ".py",
   "mimetype": "text/x-python",
   "name": "python",
   "nbconvert_exporter": "python",
   "pygments_lexer": "ipython3",
   "version": "3.10.4"
  },
  "orig_nbformat": 4,
  "vscode": {
   "interpreter": {
    "hash": "aee8b7b246df8f9039afb4144a1f6fd8d2ca17a180786b69acc140d282b71a49"
   }
  }
 },
 "nbformat": 4,
 "nbformat_minor": 2
}
